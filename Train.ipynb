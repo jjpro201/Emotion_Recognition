{
 "cells": [
  {
   "cell_type": "code",
   "execution_count": 1,
   "metadata": {},
   "outputs": [
    {
     "name": "stderr",
     "output_type": "stream",
     "text": [
      "Using TensorFlow backend.\n",
      "/home/johnson/anaconda3/lib/python3.6/site-packages/tensorflow/python/framework/dtypes.py:493: FutureWarning: Passing (type, 1) or '1type' as a synonym of type is deprecated; in a future version of numpy, it will be understood as (type, (1,)) / '(1,)type'.\n",
      "  _np_qint8 = np.dtype([(\"qint8\", np.int8, 1)])\n",
      "/home/johnson/anaconda3/lib/python3.6/site-packages/tensorflow/python/framework/dtypes.py:494: FutureWarning: Passing (type, 1) or '1type' as a synonym of type is deprecated; in a future version of numpy, it will be understood as (type, (1,)) / '(1,)type'.\n",
      "  _np_quint8 = np.dtype([(\"quint8\", np.uint8, 1)])\n",
      "/home/johnson/anaconda3/lib/python3.6/site-packages/tensorflow/python/framework/dtypes.py:495: FutureWarning: Passing (type, 1) or '1type' as a synonym of type is deprecated; in a future version of numpy, it will be understood as (type, (1,)) / '(1,)type'.\n",
      "  _np_qint16 = np.dtype([(\"qint16\", np.int16, 1)])\n",
      "/home/johnson/anaconda3/lib/python3.6/site-packages/tensorflow/python/framework/dtypes.py:496: FutureWarning: Passing (type, 1) or '1type' as a synonym of type is deprecated; in a future version of numpy, it will be understood as (type, (1,)) / '(1,)type'.\n",
      "  _np_quint16 = np.dtype([(\"quint16\", np.uint16, 1)])\n",
      "/home/johnson/anaconda3/lib/python3.6/site-packages/tensorflow/python/framework/dtypes.py:497: FutureWarning: Passing (type, 1) or '1type' as a synonym of type is deprecated; in a future version of numpy, it will be understood as (type, (1,)) / '(1,)type'.\n",
      "  _np_qint32 = np.dtype([(\"qint32\", np.int32, 1)])\n",
      "/home/johnson/anaconda3/lib/python3.6/site-packages/tensorflow/python/framework/dtypes.py:502: FutureWarning: Passing (type, 1) or '1type' as a synonym of type is deprecated; in a future version of numpy, it will be understood as (type, (1,)) / '(1,)type'.\n",
      "  np_resource = np.dtype([(\"resource\", np.ubyte, 1)])\n"
     ]
    }
   ],
   "source": [
    "import os\n",
    "import cv2\n",
    "import keras\n",
    "from keras.callbacks import ModelCheckpoint\n",
    "from keras.preprocessing.image import ImageDataGenerator\n",
    "import numpy as np\n",
    "from glob import glob\n",
    "import matplotlib.pyplot as plt\n",
    "from tqdm import tqdm\n",
    "import csv\n",
    "from sklearn.model_selection import train_test_split\n",
    "from sklearn.model_selection import StratifiedKFold"
   ]
  },
  {
   "cell_type": "code",
   "execution_count": 2,
   "metadata": {
    "collapsed": true
   },
   "outputs": [],
   "source": [
    "IMG_SIZE = 48\n",
    "batch_size = 15\n",
    "Numb_class = 6\n",
    "epochs = 15"
   ]
  },
  {
   "cell_type": "code",
   "execution_count": 3,
   "metadata": {
    "collapsed": true
   },
   "outputs": [],
   "source": [
    "#loaddata\n",
    "def loaddata():\n",
    "    X = []\n",
    "    Y = []\n",
    "\n",
    "    path = glob('images/*/*.png')\n",
    "    for img in tqdm(path):\n",
    "        #print(img)\n",
    "        image = cv2.imread(img.replace('\\\\','/'))\n",
    "        draw = image.copy()\n",
    "        draw = cv2.cvtColor(draw, cv2.COLOR_BGR2RGB)\n",
    "        image = cv2.resize(draw, (IMG_SIZE, IMG_SIZE))\n",
    "        c = int(img.replace('\\\\','/').split('/', -1)[-2])\n",
    "        y = np.zeros(Numb_class)\n",
    "        y[c] = 1.\n",
    "        X.append(image)\n",
    "        Y.append(y)\n",
    "    #print(X)\n",
    "    X = np.array(X, dtype=np.uint8)\n",
    "    Y = np.array(Y,dtype=np.float32)\n",
    "    return X, Y"
   ]
  },
  {
   "cell_type": "code",
   "execution_count": 4,
   "metadata": {},
   "outputs": [
    {
     "name": "stderr",
     "output_type": "stream",
     "text": [
      "100%|██████████| 14400/14400 [03:02<00:00, 78.86it/s] \n"
     ]
    }
   ],
   "source": [
    "#loaddata()\n",
    "x,y=loaddata()"
   ]
  },
  {
   "cell_type": "code",
   "execution_count": 5,
   "metadata": {
    "collapsed": true
   },
   "outputs": [],
   "source": [
    "#print(x, y)\n",
    "X_train, X_val, y_train, y_val = train_test_split(x, y, test_size=0.2, random_state=0)"
   ]
  },
  {
   "cell_type": "code",
   "execution_count": 6,
   "metadata": {},
   "outputs": [
    {
     "name": "stdout",
     "output_type": "stream",
     "text": [
      "11520\n",
      "2880\n"
     ]
    }
   ],
   "source": [
    "print(len(X_train))\n",
    "print(len(X_val))"
   ]
  },
  {
   "cell_type": "code",
   "execution_count": 7,
   "metadata": {
    "collapsed": true
   },
   "outputs": [],
   "source": [
    "def model():\n",
    "    input = keras.Input(shape=(IMG_SIZE , IMG_SIZE, 3))\n",
    "    x = keras.layers.Conv2D(64, (3, 3), padding='same', activation=keras.activations.relu)(input)\n",
    "    x = keras.layers.Conv2D(64, (3, 3), padding='same', activation=keras.activations.relu)(x)\n",
    "    x = keras.layers.Conv2D(64, (3, 3), padding='same', activation=keras.activations.relu)(x)\n",
    "\n",
    "    # 1er Maxpooling Et Normalisation\n",
    "    x = keras.layers.MaxPooling2D((2, 2), strides=(2, 2), padding='same')(x)\n",
    "    x = keras.layers.BatchNormalization()(x)\n",
    "\n",
    "    x = keras.layers.Conv2D(128, (3, 3), padding='same', activation=keras.activations.relu)(x)\n",
    "    x = keras.layers.Conv2D(128, (3, 3), padding='same', activation=keras.activations.relu)(x)\n",
    "    x = keras.layers.Conv2D(128, (3, 3), padding='same', activation=keras.activations.relu)(x)\n",
    "\n",
    "    x = keras.layers.MaxPooling2D((2, 2), strides=(2, 2), padding='same')(x)\n",
    "    x = keras.layers.BatchNormalization()(x)\n",
    "\n",
    "    x = keras.layers.Conv2D(512, (3, 3), padding='same', activation=keras.activations.relu)(x)\n",
    "    x = keras.layers.Conv2D(512, (3, 3), padding='same', activation=keras.activations.relu)(x)\n",
    "    x = keras.layers.Conv2D(512, (3, 3), padding='same', activation=keras.activations.relu)(x)\n",
    "    \n",
    "    # 2eme Maxpooling Et Normalisation\n",
    "    x = keras.layers.MaxPooling2D((2, 2), strides=(2, 2), padding='same')(x)\n",
    "    x = keras.layers.BatchNormalization()(x)\n",
    "\n",
    "    x = keras.layers.Conv2D(512, (3, 3), padding='same', activation=keras.activations.relu)(x)\n",
    "    x = keras.layers.Conv2D(512, (3, 3), padding='same', activation=keras.activations.relu)(x)\n",
    "    x = keras.layers.Conv2D(512, (3, 3), padding='same', activation=keras.activations.relu)(x)\n",
    "\n",
    "    #  4e Maxpooling Et Normalisation\n",
    "    x = keras.layers.MaxPooling2D((2, 2), strides=(2, 2), padding='same')(x)\n",
    "    x = keras.layers.BatchNormalization()(x)\n",
    "\n",
    "    x = keras.layers.Conv2D(512, (3, 3), padding='same', activation=keras.activations.relu)(x)\n",
    "    x = keras.layers.Conv2D(512, (3, 3), padding='same', activation=keras.activations.relu)(x)\n",
    "    x = keras.layers.Conv2D(512, (3, 3), padding='same', activation=keras.activations.relu)(x)\n",
    "\n",
    "    #  5e Maxpooling passe l'image a 8\n",
    "    x = keras.layers.MaxPooling2D((2, 2), strides=(2, 2), padding='same')(x)\n",
    "    x = keras.layers.BatchNormalization()(x)\n",
    "\n",
    "    #flatten\n",
    "    x = keras.layers.Flatten()(x)\n",
    "\n",
    "    x = keras.layers.Dense(64, activation=keras.activations.relu)(x)\n",
    "    # Normalisation\n",
    "    x = keras.layers.BatchNormalization()(x)\n",
    "\n",
    "    output = keras.layers.Dense(Numb_class, kernel_initializer='uniform', activation=keras.activations.softmax)(x)\n",
    "\n",
    "    return keras.Model(inputs=input, outputs=output)"
   ]
  },
  {
   "cell_type": "code",
   "execution_count": 8,
   "metadata": {
    "collapsed": true
   },
   "outputs": [],
   "source": [
    "def save_keras_model(model, filename):\n",
    "    save_weights_path='./'+ filename +\"_weights.h5\"\n",
    "    save_keras_modelh5_path='./'+ filename+'_h5' +\".h5\"\n",
    "    save_model_jason_path='./'+filename+\".json\"\n",
    "\n",
    "    # serialize model to JSON\n",
    "    model_json = model.to_json()\n",
    "    with open(save_model_jason_path, \"w\") as json_file:\n",
    "        json_file.write(model_json)\n",
    "    # serialize weights to HDF5\n",
    "    model.save_weights(save_weights_path)\n",
    "    model.save(save_keras_modelh5_path)\n"
   ]
  },
  {
   "cell_type": "code",
   "execution_count": 9,
   "metadata": {
    "collapsed": true
   },
   "outputs": [],
   "source": [
    "#X, Y =loaddata();\n",
    "#X_test, Y_test, image=load_test();"
   ]
  },
  {
   "cell_type": "code",
   "execution_count": 10,
   "metadata": {},
   "outputs": [
    {
     "name": "stdout",
     "output_type": "stream",
     "text": [
      "_________________________________________________________________\n",
      "Layer (type)                 Output Shape              Param #   \n",
      "=================================================================\n",
      "input_1 (InputLayer)         (None, 48, 48, 3)         0         \n",
      "_________________________________________________________________\n",
      "conv2d_1 (Conv2D)            (None, 48, 48, 64)        1792      \n",
      "_________________________________________________________________\n",
      "conv2d_2 (Conv2D)            (None, 48, 48, 64)        36928     \n",
      "_________________________________________________________________\n",
      "conv2d_3 (Conv2D)            (None, 48, 48, 64)        36928     \n",
      "_________________________________________________________________\n",
      "max_pooling2d_1 (MaxPooling2 (None, 24, 24, 64)        0         \n",
      "_________________________________________________________________\n",
      "batch_normalization_1 (Batch (None, 24, 24, 64)        256       \n",
      "_________________________________________________________________\n",
      "conv2d_4 (Conv2D)            (None, 24, 24, 128)       73856     \n",
      "_________________________________________________________________\n",
      "conv2d_5 (Conv2D)            (None, 24, 24, 128)       147584    \n",
      "_________________________________________________________________\n",
      "conv2d_6 (Conv2D)            (None, 24, 24, 128)       147584    \n",
      "_________________________________________________________________\n",
      "max_pooling2d_2 (MaxPooling2 (None, 12, 12, 128)       0         \n",
      "_________________________________________________________________\n",
      "batch_normalization_2 (Batch (None, 12, 12, 128)       512       \n",
      "_________________________________________________________________\n",
      "conv2d_7 (Conv2D)            (None, 12, 12, 512)       590336    \n",
      "_________________________________________________________________\n",
      "conv2d_8 (Conv2D)            (None, 12, 12, 512)       2359808   \n",
      "_________________________________________________________________\n",
      "conv2d_9 (Conv2D)            (None, 12, 12, 512)       2359808   \n",
      "_________________________________________________________________\n",
      "max_pooling2d_3 (MaxPooling2 (None, 6, 6, 512)         0         \n",
      "_________________________________________________________________\n",
      "batch_normalization_3 (Batch (None, 6, 6, 512)         2048      \n",
      "_________________________________________________________________\n",
      "conv2d_10 (Conv2D)           (None, 6, 6, 512)         2359808   \n",
      "_________________________________________________________________\n",
      "conv2d_11 (Conv2D)           (None, 6, 6, 512)         2359808   \n",
      "_________________________________________________________________\n",
      "conv2d_12 (Conv2D)           (None, 6, 6, 512)         2359808   \n",
      "_________________________________________________________________\n",
      "max_pooling2d_4 (MaxPooling2 (None, 3, 3, 512)         0         \n",
      "_________________________________________________________________\n",
      "batch_normalization_4 (Batch (None, 3, 3, 512)         2048      \n",
      "_________________________________________________________________\n",
      "conv2d_13 (Conv2D)           (None, 3, 3, 512)         2359808   \n",
      "_________________________________________________________________\n",
      "conv2d_14 (Conv2D)           (None, 3, 3, 512)         2359808   \n",
      "_________________________________________________________________\n",
      "conv2d_15 (Conv2D)           (None, 3, 3, 512)         2359808   \n",
      "_________________________________________________________________\n",
      "max_pooling2d_5 (MaxPooling2 (None, 2, 2, 512)         0         \n",
      "_________________________________________________________________\n",
      "batch_normalization_5 (Batch (None, 2, 2, 512)         2048      \n",
      "_________________________________________________________________\n",
      "flatten_1 (Flatten)          (None, 2048)              0         \n",
      "_________________________________________________________________\n",
      "dense_1 (Dense)              (None, 64)                131136    \n",
      "_________________________________________________________________\n",
      "batch_normalization_6 (Batch (None, 64)                256       \n",
      "_________________________________________________________________\n",
      "dense_2 (Dense)              (None, 6)                 390       \n",
      "=================================================================\n",
      "Total params: 20,052,166\n",
      "Trainable params: 20,048,582\n",
      "Non-trainable params: 3,584\n",
      "_________________________________________________________________\n"
     ]
    }
   ],
   "source": [
    "model = model()\n",
    "model.summary()"
   ]
  },
  {
   "cell_type": "code",
   "execution_count": 11,
   "metadata": {},
   "outputs": [
    {
     "name": "stdout",
     "output_type": "stream",
     "text": [
      "Train on 11520 samples, validate on 2880 samples\n",
      "Epoch 1/15\n",
      "11520/11520 [==============================] - 4908s 426ms/step - loss: 1.0553 - acc: 0.7082 - val_loss: 0.4163 - val_acc: 0.9458\n",
      "Epoch 2/15\n"
     ]
    },
    {
     "name": "stderr",
     "output_type": "stream",
     "text": [
      "/home/johnson/anaconda3/lib/python3.6/site-packages/keras/callbacks.py:434: RuntimeWarning: Can save best model only with val_accuracy available, skipping.\n",
      "  'skipping.' % (self.monitor), RuntimeWarning)\n"
     ]
    },
    {
     "name": "stdout",
     "output_type": "stream",
     "text": [
      "11520/11520 [==============================] - 4901s 425ms/step - loss: 0.2926 - acc: 0.9643 - val_loss: 0.1470 - val_acc: 0.9910\n",
      "Epoch 3/15\n",
      "11520/11520 [==============================] - 4909s 426ms/step - loss: 0.1282 - acc: 0.9918 - val_loss: 0.0699 - val_acc: 0.9958\n",
      "Epoch 4/15\n",
      "11520/11520 [==============================] - 4912s 426ms/step - loss: 0.0767 - acc: 0.9963 - val_loss: 0.0451 - val_acc: 0.9965\n",
      "Epoch 5/15\n",
      "11520/11520 [==============================] - 4924s 427ms/step - loss: 0.0563 - acc: 0.9972 - val_loss: 0.0361 - val_acc: 0.9972\n",
      "Epoch 6/15\n",
      "11520/11520 [==============================] - 4970s 431ms/step - loss: 0.0408 - acc: 0.9985 - val_loss: 0.0288 - val_acc: 0.9972\n",
      "Epoch 7/15\n",
      "11520/11520 [==============================] - 5420s 471ms/step - loss: 0.0326 - acc: 0.9989 - val_loss: 0.0228 - val_acc: 0.9979\n",
      "Epoch 8/15\n",
      "11520/11520 [==============================] - 5220s 453ms/step - loss: 0.0246 - acc: 0.9999 - val_loss: 0.0200 - val_acc: 0.9983\n",
      "Epoch 9/15\n",
      "11520/11520 [==============================] - 5249s 456ms/step - loss: 0.0216 - acc: 0.9998 - val_loss: 0.0176 - val_acc: 0.9979\n",
      "Epoch 10/15\n",
      "11520/11520 [==============================] - 5031s 437ms/step - loss: 0.0198 - acc: 0.9997 - val_loss: 0.0166 - val_acc: 0.9986\n",
      "Epoch 11/15\n",
      "11520/11520 [==============================] - 5025s 436ms/step - loss: 0.0175 - acc: 0.9999 - val_loss: 0.0149 - val_acc: 0.9983\n",
      "Epoch 12/15\n",
      "11520/11520 [==============================] - 5193s 451ms/step - loss: 0.0145 - acc: 0.9996 - val_loss: 0.0127 - val_acc: 0.9986\n",
      "Epoch 13/15\n",
      "11520/11520 [==============================] - 5038s 437ms/step - loss: 0.0130 - acc: 0.9998 - val_loss: 0.0133 - val_acc: 0.9993\n",
      "Epoch 14/15\n",
      "11520/11520 [==============================] - 5074s 440ms/step - loss: 0.0136 - acc: 0.9997 - val_loss: 0.0119 - val_acc: 0.9986\n",
      "Epoch 15/15\n",
      "11520/11520 [==============================] - 5132s 445ms/step - loss: 0.0116 - acc: 0.9999 - val_loss: 0.0228 - val_acc: 0.9972\n"
     ]
    }
   ],
   "source": [
    "sgd = keras.optimizers.SGD(lr=0.0001, momentum=0.9, nesterov=True)\n",
    "adam=keras.optimizers.Adam(lr=0.01)\n",
    "model.compile(optimizer=sgd, loss=keras.losses.categorical_crossentropy, metrics=['accuracy'])\n",
    "\n",
    "checkpoint = ModelCheckpoint(\"model_weights.h5\", monitor='val_accuracy', verbose=1, save_best_only=True, mode='max')\n",
    "callbacks_list = [checkpoint]\n",
    "\n",
    "#history = model.fit(X_train, y_train, batch_size, epochs, verbose=1, validation_split=0.25, callbacks=callbacks_list)\n",
    "history = model.fit(X_train, y_train, batch_size, epochs, verbose=1, validation_data=(X_val, y_val), callbacks=callbacks_list)\n",
    "save_keras_model(model, \"modelfacial\")"
   ]
  },
  {
   "cell_type": "code",
   "execution_count": 12,
   "metadata": {},
   "outputs": [
    {
     "name": "stdout",
     "output_type": "stream",
     "text": [
      "0.022754185010368626 0.9972222222222222\n",
      "acc: 99.72%\n"
     ]
    }
   ],
   "source": [
    "loss, acc = model.evaluate(X_val, y_val, verbose=0)\n",
    "validation_data=(X_val, y_val)\n",
    "print(loss, acc)\n",
    "# evaluate the model\n",
    "scores = model.evaluate(X_val, y_val, verbose=0)\n",
    "print(\"%s: %.2f%%\" % (model.metrics_names[1], scores[1]*100))\n"
   ]
  },
  {
   "cell_type": "code",
   "execution_count": 13,
   "metadata": {},
   "outputs": [
    {
     "data": {
      "image/png": "[encoded data removed]",
      "text/plain": [
       "<Figure size 432x288 with 1 Axes>"
      ]
     },
     "metadata": {},
     "output_type": "display_data"
    },
    {
     "data": {
      "image/png": "[encoded data removed]",
      "text/plain": [
       "<Figure size 432x288 with 1 Axes>"
      ]
     },
     "metadata": {},
     "output_type": "display_data"
    }
   ],
   "source": [
    "# Plot Accuracy & Epoch values\n",
    "plt.plot(history.history['acc'])\n",
    "plt.plot(history.history['val_acc'])\n",
    "plt.title('Model accuracy', fontsize=10)\n",
    "plt.ylabel('Accuracy')\n",
    "plt.xlabel('Epoch')\n",
    "plt.legend(['Train', 'Test'], loc='upper left')\n",
    "plt.show()\n",
    "\n",
    "\n",
    "# Plot training & validation loss values\n",
    "plt.plot(history.history['loss'])\n",
    "plt.plot(history.history['val_loss'])\n",
    "plt.title('Model loss', fontsize=10)\n",
    "plt.ylabel('Loss')\n",
    "plt.xlabel('Epoch')\n",
    "plt.legend(['Loss', 'Val loss'], loc='upper left')\n",
    "plt.show()\n",
    "\n",
    "\n",
    "# plt.plot(history.history['loss'])\n",
    "#plt.plot(history.history['val_loss'])\n",
    "#plt.suptitle('Optimizer : SGD\\n', fontsize=10)\n",
    "#plt.ylabel('Validation Loss', fontsize=9)\n",
    "#plt.xlabel('Training Loss', fontsize=9)\n",
    "#plt.legend(loc='upper right')\n",
    "#plt.show()\n",
    "\n",
    "#Save in weights and model\n",
    "save_keras_model(model, 'model-keras')"
   ]
  },
  {
   "cell_type": "code",
   "execution_count": null,
   "metadata": {
    "collapsed": true
   },
   "outputs": [],
   "source": []
  }
 ],
 "metadata": {
  "kernelspec": {
   "display_name": "Python 3",
   "language": "python",
   "name": "python3"
  },
  "language_info": {
   "codemirror_mode": {
    "name": "ipython",
    "version": 3
   },
   "file_extension": ".py",
   "mimetype": "text/x-python",
   "name": "python",
   "nbconvert_exporter": "python",
   "pygments_lexer": "ipython3",
   "version": "3.6.3"
  }
 },
 "nbformat": 4,
 "nbformat_minor": 2
}
