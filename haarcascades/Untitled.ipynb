{
 "cells": [
  {
   "cell_type": "code",
   "execution_count": 5,
   "metadata": {},
   "outputs": [],
   "source": [
    "import pandas as pd\n",
    "from matplotlib import pyplot"
   ]
  },
  {
   "cell_type": "code",
   "execution_count": 6,
   "metadata": {},
   "outputs": [],
   "source": [
    "files= pd.read_excel('C:/Users/louis/Desktop/COVID19_2020-03-27.xls')"
   ]
  },
  {
   "cell_type": "code",
   "execution_count": 8,
   "metadata": {},
   "outputs": [
    {
     "name": "stdout",
     "output_type": "stream",
     "text": [
      "      dateRep  day  month  year  cases  deaths countriesAndTerritories geoId  \\\n",
      "0  2020-03-27   27      3  2020      0       0             Afghanistan    AF   \n",
      "1  2020-03-26   26      3  2020     33       0             Afghanistan    AF   \n",
      "2  2020-03-25   25      3  2020      2       0             Afghanistan    AF   \n",
      "3  2020-03-24   24      3  2020      6       1             Afghanistan    AF   \n",
      "4  2020-03-23   23      3  2020     10       0             Afghanistan    AF   \n",
      "5  2020-03-22   22      3  2020      0       0             Afghanistan    AF   \n",
      "6  2020-03-21   21      3  2020      2       0             Afghanistan    AF   \n",
      "7  2020-03-20   20      3  2020      0       0             Afghanistan    AF   \n",
      "8  2020-03-19   19      3  2020      0       0             Afghanistan    AF   \n",
      "9  2020-03-18   18      3  2020      1       0             Afghanistan    AF   \n",
      "10 2020-03-17   17      3  2020      5       0             Afghanistan    AF   \n",
      "11 2020-03-16   16      3  2020      6       0             Afghanistan    AF   \n",
      "12 2020-03-15   15      3  2020      3       0             Afghanistan    AF   \n",
      "13 2020-03-11   11      3  2020      3       0             Afghanistan    AF   \n",
      "14 2020-03-08    8      3  2020      3       0             Afghanistan    AF   \n",
      "\n",
      "   countryterritoryCode  popData2018  \n",
      "0                   AFG   37172386.0  \n",
      "1                   AFG   37172386.0  \n",
      "2                   AFG   37172386.0  \n",
      "3                   AFG   37172386.0  \n",
      "4                   AFG   37172386.0  \n",
      "5                   AFG   37172386.0  \n",
      "6                   AFG   37172386.0  \n",
      "7                   AFG   37172386.0  \n",
      "8                   AFG   37172386.0  \n",
      "9                   AFG   37172386.0  \n",
      "10                  AFG   37172386.0  \n",
      "11                  AFG   37172386.0  \n",
      "12                  AFG   37172386.0  \n",
      "13                  AFG   37172386.0  \n",
      "14                  AFG   37172386.0  \n"
     ]
    }
   ],
   "source": [
    "print(files.head(15))\n"
   ]
  },
  {
   "cell_type": "code",
   "execution_count": null,
   "metadata": {},
   "outputs": [],
   "source": []
  }
 ],
 "metadata": {
  "kernelspec": {
   "display_name": "Python 3",
   "language": "python",
   "name": "python3"
  },
  "language_info": {
   "codemirror_mode": {
    "name": "ipython",
    "version": 3
   },
   "file_extension": ".py",
   "mimetype": "text/x-python",
   "name": "python",
   "nbconvert_exporter": "python",
   "pygments_lexer": "ipython3",
   "version": "3.7.4"
  }
 },
 "nbformat": 4,
 "nbformat_minor": 2
}
